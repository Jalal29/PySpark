{
  "nbformat": 4,
  "nbformat_minor": 0,
  "metadata": {
    "colab": {
      "name": "pyspark_california_housing.ipynb",
      "provenance": [],
      "collapsed_sections": []
    },
    "kernelspec": {
      "name": "python3",
      "display_name": "Python 3"
    },
    "language_info": {
      "name": "python"
    }
  },
  "cells": [
    {
      "cell_type": "markdown",
      "metadata": {
        "id": "IUysT-HswXtD"
      },
      "source": [
        "\n",
        "\n",
        "\n",
        "\n",
        "**Installing pyspark**\n",
        "\n",
        "\n",
        "\n",
        "\n"
      ]
    },
    {
      "cell_type": "code",
      "metadata": {
        "colab": {
          "base_uri": "https://localhost:8080/"
        },
        "id": "Kz6sRj9swaNB",
        "outputId": "cab7a168-1d70-4a16-c390-470d964e847d"
      },
      "source": [
        "pip install pyspark\n"
      ],
      "execution_count": 1,
      "outputs": [
        {
          "output_type": "stream",
          "name": "stdout",
          "text": [
            "Collecting pyspark\n",
            "  Downloading pyspark-3.2.0.tar.gz (281.3 MB)\n",
            "\u001b[K     |████████████████████████████████| 281.3 MB 32 kB/s \n",
            "\u001b[?25hCollecting py4j==0.10.9.2\n",
            "  Downloading py4j-0.10.9.2-py2.py3-none-any.whl (198 kB)\n",
            "\u001b[K     |████████████████████████████████| 198 kB 58.3 MB/s \n",
            "\u001b[?25hBuilding wheels for collected packages: pyspark\n",
            "  Building wheel for pyspark (setup.py) ... \u001b[?25l\u001b[?25hdone\n",
            "  Created wheel for pyspark: filename=pyspark-3.2.0-py2.py3-none-any.whl size=281805912 sha256=9fd4e88e601885ae5aa4945df6a7861df1ac3c916b5a133d4147c099af663bec\n",
            "  Stored in directory: /root/.cache/pip/wheels/0b/de/d2/9be5d59d7331c6c2a7c1b6d1a4f463ce107332b1ecd4e80718\n",
            "Successfully built pyspark\n",
            "Installing collected packages: py4j, pyspark\n",
            "Successfully installed py4j-0.10.9.2 pyspark-3.2.0\n"
          ]
        }
      ]
    },
    {
      "cell_type": "markdown",
      "metadata": {
        "id": "ripXniPKwpcZ"
      },
      "source": [
        "**Importing pyspark and starting a session and read the csv file**"
      ]
    },
    {
      "cell_type": "code",
      "metadata": {
        "colab": {
          "base_uri": "https://localhost:8080/",
          "height": 218
        },
        "id": "ujoMkYMmwo0I",
        "outputId": "a0108e04-5306-40ba-9075-c2eb4ccaa000"
      },
      "source": [
        "import pyspark\n",
        "from pyspark.sql import SparkSession\n",
        "spark=SparkSession.builder.getOrCreate()\n",
        "spark"
      ],
      "execution_count": 3,
      "outputs": [
        {
          "output_type": "execute_result",
          "data": {
            "text/html": [
              "\n",
              "            <div>\n",
              "                <p><b>SparkSession - in-memory</b></p>\n",
              "                \n",
              "        <div>\n",
              "            <p><b>SparkContext</b></p>\n",
              "\n",
              "            <p><a href=\"http://807c5be2e832:4040\">Spark UI</a></p>\n",
              "\n",
              "            <dl>\n",
              "              <dt>Version</dt>\n",
              "                <dd><code>v3.2.0</code></dd>\n",
              "              <dt>Master</dt>\n",
              "                <dd><code>local[*]</code></dd>\n",
              "              <dt>AppName</dt>\n",
              "                <dd><code>pyspark-shell</code></dd>\n",
              "            </dl>\n",
              "        </div>\n",
              "        \n",
              "            </div>\n",
              "        "
            ],
            "text/plain": [
              "<pyspark.sql.session.SparkSession at 0x7efc7181eb10>"
            ]
          },
          "metadata": {},
          "execution_count": 3
        }
      ]
    },
    {
      "cell_type": "code",
      "metadata": {
        "colab": {
          "base_uri": "https://localhost:8080/"
        },
        "id": "zvGuZFv9w0pE",
        "outputId": "73b7a5f6-b5a7-4477-9898-e3092f804075"
      },
      "source": [
        "df_spark=spark.read.option('header','True').csv('sample_data/california_housing_train.csv',inferSchema=True)\n",
        "df_spark.show()"
      ],
      "execution_count": 4,
      "outputs": [
        {
          "output_type": "stream",
          "name": "stdout",
          "text": [
            "+---------+--------+------------------+-----------+--------------+----------+----------+-------------+------------------+\n",
            "|longitude|latitude|housing_median_age|total_rooms|total_bedrooms|population|households|median_income|median_house_value|\n",
            "+---------+--------+------------------+-----------+--------------+----------+----------+-------------+------------------+\n",
            "|  -114.31|   34.19|              15.0|     5612.0|        1283.0|    1015.0|     472.0|       1.4936|           66900.0|\n",
            "|  -114.47|    34.4|              19.0|     7650.0|        1901.0|    1129.0|     463.0|         1.82|           80100.0|\n",
            "|  -114.56|   33.69|              17.0|      720.0|         174.0|     333.0|     117.0|       1.6509|           85700.0|\n",
            "|  -114.57|   33.64|              14.0|     1501.0|         337.0|     515.0|     226.0|       3.1917|           73400.0|\n",
            "|  -114.57|   33.57|              20.0|     1454.0|         326.0|     624.0|     262.0|        1.925|           65500.0|\n",
            "|  -114.58|   33.63|              29.0|     1387.0|         236.0|     671.0|     239.0|       3.3438|           74000.0|\n",
            "|  -114.58|   33.61|              25.0|     2907.0|         680.0|    1841.0|     633.0|       2.6768|           82400.0|\n",
            "|  -114.59|   34.83|              41.0|      812.0|         168.0|     375.0|     158.0|       1.7083|           48500.0|\n",
            "|  -114.59|   33.61|              34.0|     4789.0|        1175.0|    3134.0|    1056.0|       2.1782|           58400.0|\n",
            "|   -114.6|   34.83|              46.0|     1497.0|         309.0|     787.0|     271.0|       2.1908|           48100.0|\n",
            "|   -114.6|   33.62|              16.0|     3741.0|         801.0|    2434.0|     824.0|       2.6797|           86500.0|\n",
            "|   -114.6|    33.6|              21.0|     1988.0|         483.0|    1182.0|     437.0|        1.625|           62000.0|\n",
            "|  -114.61|   34.84|              48.0|     1291.0|         248.0|     580.0|     211.0|       2.1571|           48600.0|\n",
            "|  -114.61|   34.83|              31.0|     2478.0|         464.0|    1346.0|     479.0|        3.212|           70400.0|\n",
            "|  -114.63|   32.76|              15.0|     1448.0|         378.0|     949.0|     300.0|       0.8585|           45000.0|\n",
            "|  -114.65|   34.89|              17.0|     2556.0|         587.0|    1005.0|     401.0|       1.6991|           69100.0|\n",
            "|  -114.65|    33.6|              28.0|     1678.0|         322.0|     666.0|     256.0|       2.9653|           94900.0|\n",
            "|  -114.65|   32.79|              21.0|       44.0|          33.0|      64.0|      27.0|       0.8571|           25000.0|\n",
            "|  -114.66|   32.74|              17.0|     1388.0|         386.0|     775.0|     320.0|       1.2049|           44000.0|\n",
            "|  -114.67|   33.92|              17.0|       97.0|          24.0|      29.0|      15.0|       1.2656|           27500.0|\n",
            "+---------+--------+------------------+-----------+--------------+----------+----------+-------------+------------------+\n",
            "only showing top 20 rows\n",
            "\n"
          ]
        }
      ]
    },
    {
      "cell_type": "code",
      "metadata": {
        "colab": {
          "base_uri": "https://localhost:8080/"
        },
        "id": "6iSLGkVAxRnB",
        "outputId": "0ae3fcd2-8a6d-45c1-9374-2ff7b2638fd6"
      },
      "source": [
        "df_spark.printSchema()"
      ],
      "execution_count": 5,
      "outputs": [
        {
          "output_type": "stream",
          "name": "stdout",
          "text": [
            "root\n",
            " |-- longitude: double (nullable = true)\n",
            " |-- latitude: double (nullable = true)\n",
            " |-- housing_median_age: double (nullable = true)\n",
            " |-- total_rooms: double (nullable = true)\n",
            " |-- total_bedrooms: double (nullable = true)\n",
            " |-- population: double (nullable = true)\n",
            " |-- households: double (nullable = true)\n",
            " |-- median_income: double (nullable = true)\n",
            " |-- median_house_value: double (nullable = true)\n",
            "\n"
          ]
        }
      ]
    },
    {
      "cell_type": "code",
      "metadata": {
        "colab": {
          "base_uri": "https://localhost:8080/"
        },
        "id": "JjxlaekryPhq",
        "outputId": "8232081d-9a65-4789-a468-f73a7148926c"
      },
      "source": [
        "print(\"Length of the dataframe\",df_spark.count())"
      ],
      "execution_count": 10,
      "outputs": [
        {
          "output_type": "stream",
          "name": "stdout",
          "text": [
            "Length of the dataframe 17000\n"
          ]
        }
      ]
    },
    {
      "cell_type": "code",
      "metadata": {
        "colab": {
          "base_uri": "https://localhost:8080/"
        },
        "id": "8CuSVFvTxlYg",
        "outputId": "f12384e9-968e-4649-fa48-fefe2566c2e0"
      },
      "source": [
        "#check whether any column has null value or not\n",
        "for i in df_spark.columns:\n",
        "  print(f'column : {i} :: count_val : {df_spark.filter(df_spark[i].isNull()).count()}') "
      ],
      "execution_count": 22,
      "outputs": [
        {
          "output_type": "stream",
          "name": "stdout",
          "text": [
            "column : longitude :: count_val : 0\n",
            "column : latitude :: count_val : 0\n",
            "column : housing_median_age :: count_val : 0\n",
            "column : total_rooms :: count_val : 0\n",
            "column : total_bedrooms :: count_val : 0\n",
            "column : population :: count_val : 0\n",
            "column : households :: count_val : 0\n",
            "column : median_income :: count_val : 0\n",
            "column : median_house_value :: count_val : 0\n"
          ]
        }
      ]
    },
    {
      "cell_type": "code",
      "metadata": {
        "colab": {
          "base_uri": "https://localhost:8080/"
        },
        "id": "7622aSuW0mZo",
        "outputId": "abac4494-d99f-4032-9deb-274b67ecd231"
      },
      "source": [
        "df_spark.show(5)"
      ],
      "execution_count": 23,
      "outputs": [
        {
          "output_type": "stream",
          "name": "stdout",
          "text": [
            "+---------+--------+------------------+-----------+--------------+----------+----------+-------------+------------------+\n",
            "|longitude|latitude|housing_median_age|total_rooms|total_bedrooms|population|households|median_income|median_house_value|\n",
            "+---------+--------+------------------+-----------+--------------+----------+----------+-------------+------------------+\n",
            "|  -114.31|   34.19|              15.0|     5612.0|        1283.0|    1015.0|     472.0|       1.4936|           66900.0|\n",
            "|  -114.47|    34.4|              19.0|     7650.0|        1901.0|    1129.0|     463.0|         1.82|           80100.0|\n",
            "|  -114.56|   33.69|              17.0|      720.0|         174.0|     333.0|     117.0|       1.6509|           85700.0|\n",
            "|  -114.57|   33.64|              14.0|     1501.0|         337.0|     515.0|     226.0|       3.1917|           73400.0|\n",
            "|  -114.57|   33.57|              20.0|     1454.0|         326.0|     624.0|     262.0|        1.925|           65500.0|\n",
            "+---------+--------+------------------+-----------+--------------+----------+----------+-------------+------------------+\n",
            "only showing top 5 rows\n",
            "\n"
          ]
        }
      ]
    },
    {
      "cell_type": "code",
      "metadata": {
        "id": "Etdw9o6EAKsM"
      },
      "source": [
        ""
      ],
      "execution_count": null,
      "outputs": []
    },
    {
      "cell_type": "markdown",
      "metadata": {
        "id": "TG-4UvRHAQmq"
      },
      "source": [
        "# **Exploratory data analysis **"
      ]
    },
    {
      "cell_type": "code",
      "metadata": {
        "colab": {
          "base_uri": "https://localhost:8080/"
        },
        "id": "sf15eWHUxaFW",
        "outputId": "f771ddc7-7878-4336-9631-8b7063bf976f"
      },
      "source": [
        "#Group housing_median_age in descending order  and get the count \n",
        "result_df = df_spark.groupBy(\"housing_median_age\").count().sort(\"housing_median_age\", ascending=False)\n",
        "result_df.show()"
      ],
      "execution_count": 26,
      "outputs": [
        {
          "output_type": "stream",
          "name": "stdout",
          "text": [
            "+------------------+-----+\n",
            "|housing_median_age|count|\n",
            "+------------------+-----+\n",
            "|              52.0| 1052|\n",
            "|              51.0|   32|\n",
            "|              50.0|  112|\n",
            "|              49.0|  111|\n",
            "|              48.0|  135|\n",
            "|              47.0|  175|\n",
            "|              46.0|  196|\n",
            "|              45.0|  235|\n",
            "|              44.0|  296|\n",
            "|              43.0|  286|\n",
            "|              42.0|  308|\n",
            "|              41.0|  232|\n",
            "|              40.0|  249|\n",
            "|              39.0|  302|\n",
            "|              38.0|  318|\n",
            "|              37.0|  437|\n",
            "|              36.0|  715|\n",
            "|              35.0|  692|\n",
            "|              34.0|  567|\n",
            "|              33.0|  513|\n",
            "+------------------+-----+\n",
            "only showing top 20 rows\n",
            "\n"
          ]
        }
      ]
    },
    {
      "cell_type": "code",
      "metadata": {
        "colab": {
          "base_uri": "https://localhost:8080/"
        },
        "id": "7FsCRqD21JzC",
        "outputId": "38161b80-483e-4b0e-c9cf-fde95e74ee82"
      },
      "source": [
        "#the average of  median_house_value\n",
        "result_df = df_spark.groupBy().mean(\"median_house_value\")\n",
        "result_df.show()"
      ],
      "execution_count": 32,
      "outputs": [
        {
          "output_type": "stream",
          "name": "stdout",
          "text": [
            "+-----------------------+\n",
            "|avg(median_house_value)|\n",
            "+-----------------------+\n",
            "|     207300.91235294117|\n",
            "+-----------------------+\n",
            "\n"
          ]
        }
      ]
    },
    {
      "cell_type": "code",
      "metadata": {
        "id": "LJ2LSGIu2zgm"
      },
      "source": [
        "result_df = df_spark.groupBy(\"housing_median_age\").count().sort(\"housing_median_age\", ascending=False)"
      ],
      "execution_count": null,
      "outputs": []
    },
    {
      "cell_type": "code",
      "metadata": {
        "colab": {
          "base_uri": "https://localhost:8080/"
        },
        "id": "GF-Niuj92OEq",
        "outputId": "bf2e141e-2836-4b32-eeff-00ce9c0bc4ab"
      },
      "source": [
        "#find the average population for each set of bedrooms\n",
        "result_df = df_spark.groupBy('total_bedrooms').mean().select('total_bedrooms','avg(population)').sort('total_bedrooms')\n",
        "result_df.show()"
      ],
      "execution_count": 41,
      "outputs": [
        {
          "output_type": "stream",
          "name": "stdout",
          "text": [
            "+--------------+------------------+\n",
            "|total_bedrooms|   avg(population)|\n",
            "+--------------+------------------+\n",
            "|           1.0|              13.0|\n",
            "|           2.0|               6.0|\n",
            "|           3.0|             24.25|\n",
            "|           4.0|26.333333333333332|\n",
            "|           5.0|              15.0|\n",
            "|           6.0|              27.2|\n",
            "|           7.0|             34.75|\n",
            "|           8.0|              19.0|\n",
            "|           9.0|33.285714285714285|\n",
            "|          10.0|             72.75|\n",
            "|          11.0|30.571428571428573|\n",
            "|          12.0|              52.2|\n",
            "|          13.0|              59.0|\n",
            "|          14.0|54.666666666666664|\n",
            "|          15.0|              42.0|\n",
            "|          16.0| 66.33333333333333|\n",
            "|          17.0|1122.1666666666667|\n",
            "|          18.0|61.666666666666664|\n",
            "|          19.0|             466.0|\n",
            "|          20.0|              65.2|\n",
            "+--------------+------------------+\n",
            "only showing top 20 rows\n",
            "\n"
          ]
        }
      ]
    },
    {
      "cell_type": "code",
      "metadata": {
        "colab": {
          "base_uri": "https://localhost:8080/"
        },
        "id": "lxFvH_hv84rf",
        "outputId": "af114108-87ad-45e0-a79b-4dea654249e1"
      },
      "source": [
        "##find the average median_income for population\n",
        "result_df = df_spark.groupBy(\"population\").mean().select('population','avg(median_income)').sort('population', ascending=True)\n",
        "result_df.show()"
      ],
      "execution_count": 49,
      "outputs": [
        {
          "output_type": "stream",
          "name": "stdout",
          "text": [
            "+----------+------------------+\n",
            "|population|avg(median_income)|\n",
            "+----------+------------------+\n",
            "|       3.0|             0.536|\n",
            "|       6.0|             2.375|\n",
            "|       8.0|            2.6875|\n",
            "|       9.0|            1.0805|\n",
            "|      11.0|             5.048|\n",
            "|      13.0|            8.2278|\n",
            "|      14.0|             1.125|\n",
            "|      15.0|           2.18745|\n",
            "|      17.0|           11.3599|\n",
            "|      18.0|           0.51795|\n",
            "|      20.0|2.4286666666666665|\n",
            "|      23.0| 4.211966666666666|\n",
            "|      24.0|            3.6875|\n",
            "|      25.0|           4.92235|\n",
            "|      26.0| 2.939766666666667|\n",
            "|      27.0|           2.85715|\n",
            "|      28.0|             3.625|\n",
            "|      29.0|            3.8737|\n",
            "|      30.0|           4.95345|\n",
            "|      32.0|             5.875|\n",
            "+----------+------------------+\n",
            "only showing top 20 rows\n",
            "\n"
          ]
        }
      ]
    },
    {
      "cell_type": "code",
      "metadata": {
        "colab": {
          "base_uri": "https://localhost:8080/"
        },
        "id": "zTxlbfe2_dRs",
        "outputId": "2583506c-46ad-4db1-85c0-1f15023152cb"
      },
      "source": [
        "#find the avg(median_house_value) for housing_median_age\n",
        "result_df = df_spark.groupBy(\"housing_median_age\").mean().select('housing_median_age','avg(median_house_value)').sort('housing_median_age', ascending=True)\n",
        "result_df.show()"
      ],
      "execution_count": 50,
      "outputs": [
        {
          "output_type": "stream",
          "name": "stdout",
          "text": [
            "+------------------+-----------------------+\n",
            "|housing_median_age|avg(median_house_value)|\n",
            "+------------------+-----------------------+\n",
            "|               1.0|               190250.0|\n",
            "|               2.0|     229438.83673469388|\n",
            "|               3.0|     239450.04347826086|\n",
            "|               4.0|      230054.1055900621|\n",
            "|               5.0|     211035.70854271358|\n",
            "|               6.0|     206768.24031007753|\n",
            "|               7.0|       188445.059602649|\n",
            "|               8.0|     190805.07303370786|\n",
            "|               9.0|      190306.9941860465|\n",
            "|              10.0|     178416.39380530972|\n",
            "|              11.0|            182480.3125|\n",
            "|              12.0|          181590.640625|\n",
            "|              13.0|     188065.47389558234|\n",
            "|              14.0|     191181.28818443805|\n",
            "|              15.0|     181031.02403846153|\n",
            "|              16.0|     200354.50708661418|\n",
            "|              17.0|     191772.24479166666|\n",
            "|              18.0|     192074.71548117156|\n",
            "|              19.0|     196017.75242718446|\n",
            "|              20.0|     192681.75195822454|\n",
            "+------------------+-----------------------+\n",
            "only showing top 20 rows\n",
            "\n"
          ]
        }
      ]
    },
    {
      "cell_type": "code",
      "metadata": {
        "colab": {
          "base_uri": "https://localhost:8080/"
        },
        "id": "Fkt8q4vrDJN-",
        "outputId": "ee3058be-32c6-4623-9a6b-dec920fa8e78"
      },
      "source": [
        "df_spark.columns"
      ],
      "execution_count": 52,
      "outputs": [
        {
          "output_type": "execute_result",
          "data": {
            "text/plain": [
              "['longitude',\n",
              " 'latitude',\n",
              " 'housing_median_age',\n",
              " 'total_rooms',\n",
              " 'total_bedrooms',\n",
              " 'population',\n",
              " 'households',\n",
              " 'median_income',\n",
              " 'median_house_value']"
            ]
          },
          "metadata": {},
          "execution_count": 52
        }
      ]
    },
    {
      "cell_type": "code",
      "metadata": {
        "colab": {
          "base_uri": "https://localhost:8080/"
        },
        "id": "dJJtdgonCq8z",
        "outputId": "246df40e-06ed-4ea8-9147-b58e18098a33"
      },
      "source": [
        "#Implement machine learning problem\n",
        "\n",
        "from pyspark.ml.feature import VectorAssembler\n",
        "featureassembler=VectorAssembler(inputCols=[\"longitude\",\"latitude\",\"housing_median_age\",\"total_rooms\",\"population\",\"households\",\"median_income\"],outputCol=\"Independent Features\")\n",
        "output=featureassembler.transform(df_spark)\n",
        "output.show(5)"
      ],
      "execution_count": 54,
      "outputs": [
        {
          "output_type": "stream",
          "name": "stdout",
          "text": [
            "+---------+--------+------------------+-----------+--------------+----------+----------+-------------+------------------+--------------------+\n",
            "|longitude|latitude|housing_median_age|total_rooms|total_bedrooms|population|households|median_income|median_house_value|Independent Features|\n",
            "+---------+--------+------------------+-----------+--------------+----------+----------+-------------+------------------+--------------------+\n",
            "|  -114.31|   34.19|              15.0|     5612.0|        1283.0|    1015.0|     472.0|       1.4936|           66900.0|[-114.31,34.19,15...|\n",
            "|  -114.47|    34.4|              19.0|     7650.0|        1901.0|    1129.0|     463.0|         1.82|           80100.0|[-114.47,34.4,19....|\n",
            "|  -114.56|   33.69|              17.0|      720.0|         174.0|     333.0|     117.0|       1.6509|           85700.0|[-114.56,33.69,17...|\n",
            "|  -114.57|   33.64|              14.0|     1501.0|         337.0|     515.0|     226.0|       3.1917|           73400.0|[-114.57,33.64,14...|\n",
            "|  -114.57|   33.57|              20.0|     1454.0|         326.0|     624.0|     262.0|        1.925|           65500.0|[-114.57,33.57,20...|\n",
            "+---------+--------+------------------+-----------+--------------+----------+----------+-------------+------------------+--------------------+\n",
            "only showing top 5 rows\n",
            "\n"
          ]
        }
      ]
    },
    {
      "cell_type": "code",
      "metadata": {
        "colab": {
          "base_uri": "https://localhost:8080/"
        },
        "id": "J8lM_8AJD2qZ",
        "outputId": "a74636a5-0cfa-4dfd-c650-2b8fb80ab0d4"
      },
      "source": [
        "finalized_data=output.select(\"Independent Features\",\"median_house_value\")\n",
        "finalized_data.show(5)"
      ],
      "execution_count": 55,
      "outputs": [
        {
          "output_type": "stream",
          "name": "stdout",
          "text": [
            "+--------------------+------------------+\n",
            "|Independent Features|median_house_value|\n",
            "+--------------------+------------------+\n",
            "|[-114.31,34.19,15...|           66900.0|\n",
            "|[-114.47,34.4,19....|           80100.0|\n",
            "|[-114.56,33.69,17...|           85700.0|\n",
            "|[-114.57,33.64,14...|           73400.0|\n",
            "|[-114.57,33.57,20...|           65500.0|\n",
            "+--------------------+------------------+\n",
            "only showing top 5 rows\n",
            "\n"
          ]
        }
      ]
    },
    {
      "cell_type": "code",
      "metadata": {
        "colab": {
          "base_uri": "https://localhost:8080/"
        },
        "id": "T1tp3EdvD8dq",
        "outputId": "a22ba8ff-7fec-48ad-b50c-5157938fde83"
      },
      "source": [
        "##train test split and implement linear regression\n",
        "\n",
        "from pyspark.ml.regression import LinearRegression\n",
        "train_data,test_data=finalized_data.randomSplit([0.75,0.25])\n",
        "lr=LinearRegression(featuresCol='Independent Features', labelCol='median_house_value')\n",
        "lr=lr.fit(train_data)\n",
        "print(lr.coefficients)\n",
        "print(lr.intercept)\n",
        "\n",
        "pred=lr.evaluate(test_data)"
      ],
      "execution_count": 57,
      "outputs": [
        {
          "output_type": "stream",
          "name": "stdout",
          "text": [
            "[-42241.20448744114,-42680.348657241,1125.9811858922883,-2.509286465493427,-43.14462283794586,152.92283423297582,38659.13574583207]\n",
            "-3513170.496022557\n"
          ]
        }
      ]
    },
    {
      "cell_type": "code",
      "metadata": {
        "colab": {
          "base_uri": "https://localhost:8080/"
        },
        "id": "Ry2_4ZkP08Qc",
        "outputId": "3b62668b-2491-48d0-b31c-050c044ea653"
      },
      "source": [
        "pred.predictions.show(5)"
      ],
      "execution_count": 58,
      "outputs": [
        {
          "output_type": "stream",
          "name": "stderr",
          "text": [
            "/usr/local/lib/python3.7/dist-packages/pyspark/sql/context.py:127: FutureWarning: Deprecated in 3.0.0. Use SparkSession.builder.getOrCreate() instead.\n",
            "  FutureWarning\n"
          ]
        },
        {
          "output_type": "stream",
          "name": "stdout",
          "text": [
            "+--------------------+------------------+------------------+\n",
            "|Independent Features|median_house_value|        prediction|\n",
            "+--------------------+------------------+------------------+\n",
            "|[-124.26,40.58,52...|          111400.0|165160.76043289248|\n",
            "|[-124.23,40.54,52...|          106700.0|191896.16777670756|\n",
            "|[-124.23,41.75,11...|           73200.0| 68209.53345653694|\n",
            "|[-124.19,41.78,15...|           74600.0| 49870.91467175586|\n",
            "|[-124.17,40.77,30...|           81300.0|118980.17005428486|\n",
            "+--------------------+------------------+------------------+\n",
            "only showing top 5 rows\n",
            "\n"
          ]
        }
      ]
    },
    {
      "cell_type": "code",
      "metadata": {
        "colab": {
          "base_uri": "https://localhost:8080/"
        },
        "id": "noXhkEtHE7VY",
        "outputId": "f59c3af8-b11b-4695-fc1f-a84007fd3725"
      },
      "source": [
        "print(\"Mean absolute error for validation set:\",pred.meanAbsoluteError)\n",
        "print(\"Mean square error for validation set:\",pred.meanSquaredError)\n",
        "print(\"----\"*10)\n",
        "\n",
        "\n",
        "train=lr.evaluate(train_data)\n",
        "\n",
        "print(\"Mean absolute error for training set:\",train.meanAbsoluteError)\n",
        "print(\"Mean square error for training set:\",train.meanSquaredError)"
      ],
      "execution_count": 59,
      "outputs": [
        {
          "output_type": "stream",
          "name": "stdout",
          "text": [
            "Mean absolute error for validation set: 51769.38541352953\n",
            "Mean square error for validation set: 4906357548.994443\n",
            "----------------------------------------\n",
            "Mean absolute error for training set: 51255.63370493585\n",
            "Mean square error for training set: 4886397756.567361\n"
          ]
        }
      ]
    },
    {
      "cell_type": "code",
      "metadata": {
        "id": "66zmeSSBE7eY"
      },
      "source": [
        ""
      ],
      "execution_count": null,
      "outputs": []
    },
    {
      "cell_type": "code",
      "metadata": {
        "id": "y8r9MnTWErdM"
      },
      "source": [
        ""
      ],
      "execution_count": null,
      "outputs": []
    }
  ]
}